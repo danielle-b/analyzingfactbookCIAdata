{
  "nbformat": 4,
  "nbformat_minor": 0,
  "metadata": {
    "kernelspec": {
      "display_name": "Python 3",
      "language": "python",
      "name": "python3"
    },
    "language_info": {
      "codemirror_mode": {
        "name": "ipython",
        "version": 3
      },
      "file_extension": ".py",
      "mimetype": "text/x-python",
      "name": "python",
      "nbconvert_exporter": "python",
      "pygments_lexer": "ipython3",
      "version": "3.7.6"
    },
    "colab": {
      "name": "Analyzing CIA Factbook Data Using SQL.ipynb",
      "provenance": [],
      "collapsed_sections": []
    }
  },
  "cells": [
    {
      "cell_type": "markdown",
      "metadata": {
        "id": "dVLU8oC5hfBt",
        "colab_type": "text"
      },
      "source": [
        "# **Analyzing CIA Factbook Data Using SQL**\n"
      ]
    },
    {
      "cell_type": "markdown",
      "metadata": {
        "id": "91ynGHNIYIsS",
        "colab_type": "text"
      },
      "source": [
        "##Introduction: <br>\n",
        "In this project, I'll work with data from the [CIA World Factbook](https://www.cia.gov/library/publications/the-world-factbook/), a compilation of statistics about all of the countries on Earth. The Factbook contains demographic information like population, population growth, area, etc. I'll will be working with SQLite in this project to explore and analyze the database.\n"
      ]
    },
    {
      "cell_type": "markdown",
      "metadata": {
        "id": "akgMyZZ8Y6tT",
        "colab_type": "text"
      },
      "source": [
        "##Goals:\n",
        "The goals of this project are the following: <br>\n",
        "1. Work with data using SQL in Jupyter Notebook <br>\n",
        "2. Generate summary statistics using SQL"
      ]
    },
    {
      "cell_type": "markdown",
      "metadata": {
        "id": "MA-t91BChfBu",
        "colab_type": "text"
      },
      "source": [
        "First, I'll get started installing IPython."
      ]
    },
    {
      "cell_type": "code",
      "metadata": {
        "scrolled": true,
        "id": "ifg30S1RhfBv",
        "colab_type": "code",
        "colab": {},
        "outputId": "5a5f4366-81fc-4a59-cb97-58bd36d252da"
      },
      "source": [
        "!conda install -yc conda-forge ipython-sql"
      ],
      "execution_count": null,
      "outputs": [
        {
          "output_type": "stream",
          "text": [
            "Collecting package metadata (current_repodata.json): done\n",
            "Solving environment: done\n",
            "\n",
            "## Package Plan ##\n",
            "\n",
            "  environment location: /Users/User/opt/anaconda3\n",
            "\n",
            "  added / updated specs:\n",
            "    - ipython-sql\n",
            "\n",
            "\n",
            "The following packages will be downloaded:\n",
            "\n",
            "    package                    |            build\n",
            "    ---------------------------|-----------------\n",
            "    conda-4.8.5                |   py37hc8dfbb8_1         3.0 MB  conda-forge\n",
            "    ------------------------------------------------------------\n",
            "                                           Total:         3.0 MB\n",
            "\n",
            "The following packages will be UPDATED:\n",
            "\n",
            "  conda                                4.8.4-py37hc8dfbb8_2 --> 4.8.5-py37hc8dfbb8_1\n",
            "\n",
            "\n",
            "\n",
            "Downloading and Extracting Packages\n",
            "conda-4.8.5          | 3.0 MB    | ##################################### | 100% \n",
            "Preparing transaction: done\n",
            "Verifying transaction: done\n",
            "Executing transaction: done\n"
          ],
          "name": "stdout"
        }
      ]
    },
    {
      "cell_type": "markdown",
      "metadata": {
        "id": "OQinGq5ChfB7",
        "colab_type": "text"
      },
      "source": [
        "I'll connect my Jupyter notebook to my database file."
      ]
    },
    {
      "cell_type": "code",
      "metadata": {
        "id": "pS07gkWWhfB8",
        "colab_type": "code",
        "colab": {}
      },
      "source": [
        "%%capture\n",
        "%load_ext sql\n",
        "%sql sqlite:///factbook.db"
      ],
      "execution_count": null,
      "outputs": []
    },
    {
      "cell_type": "markdown",
      "metadata": {
        "id": "FwfYRjsphfCB",
        "colab_type": "text"
      },
      "source": [
        "I'll use a query to get information on the tables of this database."
      ]
    },
    {
      "cell_type": "code",
      "metadata": {
        "id": "RRm9UNowhfCC",
        "colab_type": "code",
        "colab": {},
        "outputId": "38aff2ef-dce7-4928-d5ba-b3959ed8c001"
      },
      "source": [
        "%%sql\n",
        "SELECT *\n",
        "  FROM sqlite_master\n",
        " WHERE type= 'table'"
      ],
      "execution_count": null,
      "outputs": [
        {
          "output_type": "stream",
          "text": [
            " * sqlite:///factbook.db\n",
            "Done.\n"
          ],
          "name": "stdout"
        },
        {
          "output_type": "execute_result",
          "data": {
            "text/html": [
              "<table>\n",
              "    <tr>\n",
              "        <th>type</th>\n",
              "        <th>name</th>\n",
              "        <th>tbl_name</th>\n",
              "        <th>rootpage</th>\n",
              "        <th>sql</th>\n",
              "    </tr>\n",
              "    <tr>\n",
              "        <td>table</td>\n",
              "        <td>sqlite_sequence</td>\n",
              "        <td>sqlite_sequence</td>\n",
              "        <td>3</td>\n",
              "        <td>CREATE TABLE sqlite_sequence(name,seq)</td>\n",
              "    </tr>\n",
              "    <tr>\n",
              "        <td>table</td>\n",
              "        <td>facts</td>\n",
              "        <td>facts</td>\n",
              "        <td>47</td>\n",
              "        <td>CREATE TABLE &quot;facts&quot; (&quot;id&quot; INTEGER PRIMARY KEY AUTOINCREMENT NOT NULL, &quot;code&quot; varchar(255) NOT NULL, &quot;name&quot; varchar(255) NOT NULL, &quot;area&quot; integer, &quot;area_land&quot; integer, &quot;area_water&quot; integer, &quot;population&quot; integer, &quot;population_growth&quot; float, &quot;birth_rate&quot; float, &quot;death_rate&quot; float, &quot;migration_rate&quot; float)</td>\n",
              "    </tr>\n",
              "</table>"
            ],
            "text/plain": [
              "[('table', 'sqlite_sequence', 'sqlite_sequence', 3, 'CREATE TABLE sqlite_sequence(name,seq)'),\n",
              " ('table', 'facts', 'facts', 47, 'CREATE TABLE \"facts\" (\"id\" INTEGER PRIMARY KEY AUTOINCREMENT NOT NULL, \"code\" varchar(255) NOT NULL, \"name\" varchar(255) NOT NULL, \"area\" integer, \"a ... (4 characters truncated) ... land\" integer, \"area_water\" integer, \"population\" integer, \"population_growth\" float, \"birth_rate\" float, \"death_rate\" float, \"migration_rate\" float)')]"
            ]
          },
          "metadata": {
            "tags": []
          },
          "execution_count": 4
        }
      ]
    },
    {
      "cell_type": "markdown",
      "metadata": {
        "id": "NUEbG900hfCJ",
        "colab_type": "text"
      },
      "source": [
        "I have two tables here: sqlite_sequence and facts. For this project, I'll focus on the latter."
      ]
    },
    {
      "cell_type": "markdown",
      "metadata": {
        "id": "cURa4o48hSip",
        "colab_type": "text"
      },
      "source": [
        ""
      ]
    },
    {
      "cell_type": "markdown",
      "metadata": {
        "id": "NdxwVczchfCK",
        "colab_type": "text"
      },
      "source": [
        "## **Overview of the Data**  \n",
        "I'll start by getting a sense of what the data looks like."
      ]
    },
    {
      "cell_type": "code",
      "metadata": {
        "id": "Fy85qSyshfCN",
        "colab_type": "code",
        "colab": {},
        "outputId": "f150c19f-980a-4f0e-ad2e-35b876c0909b"
      },
      "source": [
        "%%sql\n",
        "SELECT *\n",
        "  FROM facts\n",
        " LIMIT 5;"
      ],
      "execution_count": null,
      "outputs": [
        {
          "output_type": "stream",
          "text": [
            " * sqlite:///factbook.db\n",
            "Done.\n"
          ],
          "name": "stdout"
        },
        {
          "output_type": "execute_result",
          "data": {
            "text/html": [
              "<table>\n",
              "    <tr>\n",
              "        <th>id</th>\n",
              "        <th>code</th>\n",
              "        <th>name</th>\n",
              "        <th>area</th>\n",
              "        <th>area_land</th>\n",
              "        <th>area_water</th>\n",
              "        <th>population</th>\n",
              "        <th>population_growth</th>\n",
              "        <th>birth_rate</th>\n",
              "        <th>death_rate</th>\n",
              "        <th>migration_rate</th>\n",
              "    </tr>\n",
              "    <tr>\n",
              "        <td>1</td>\n",
              "        <td>af</td>\n",
              "        <td>Afghanistan</td>\n",
              "        <td>652230</td>\n",
              "        <td>652230</td>\n",
              "        <td>0</td>\n",
              "        <td>32564342</td>\n",
              "        <td>2.32</td>\n",
              "        <td>38.57</td>\n",
              "        <td>13.89</td>\n",
              "        <td>1.51</td>\n",
              "    </tr>\n",
              "    <tr>\n",
              "        <td>2</td>\n",
              "        <td>al</td>\n",
              "        <td>Albania</td>\n",
              "        <td>28748</td>\n",
              "        <td>27398</td>\n",
              "        <td>1350</td>\n",
              "        <td>3029278</td>\n",
              "        <td>0.3</td>\n",
              "        <td>12.92</td>\n",
              "        <td>6.58</td>\n",
              "        <td>3.3</td>\n",
              "    </tr>\n",
              "    <tr>\n",
              "        <td>3</td>\n",
              "        <td>ag</td>\n",
              "        <td>Algeria</td>\n",
              "        <td>2381741</td>\n",
              "        <td>2381741</td>\n",
              "        <td>0</td>\n",
              "        <td>39542166</td>\n",
              "        <td>1.84</td>\n",
              "        <td>23.67</td>\n",
              "        <td>4.31</td>\n",
              "        <td>0.92</td>\n",
              "    </tr>\n",
              "    <tr>\n",
              "        <td>4</td>\n",
              "        <td>an</td>\n",
              "        <td>Andorra</td>\n",
              "        <td>468</td>\n",
              "        <td>468</td>\n",
              "        <td>0</td>\n",
              "        <td>85580</td>\n",
              "        <td>0.12</td>\n",
              "        <td>8.13</td>\n",
              "        <td>6.96</td>\n",
              "        <td>0.0</td>\n",
              "    </tr>\n",
              "    <tr>\n",
              "        <td>5</td>\n",
              "        <td>ao</td>\n",
              "        <td>Angola</td>\n",
              "        <td>1246700</td>\n",
              "        <td>1246700</td>\n",
              "        <td>0</td>\n",
              "        <td>19625353</td>\n",
              "        <td>2.78</td>\n",
              "        <td>38.78</td>\n",
              "        <td>11.49</td>\n",
              "        <td>0.46</td>\n",
              "    </tr>\n",
              "</table>"
            ],
            "text/plain": [
              "[(1, 'af', 'Afghanistan', 652230, 652230, 0, 32564342, 2.32, 38.57, 13.89, 1.51),\n",
              " (2, 'al', 'Albania', 28748, 27398, 1350, 3029278, 0.3, 12.92, 6.58, 3.3),\n",
              " (3, 'ag', 'Algeria', 2381741, 2381741, 0, 39542166, 1.84, 23.67, 4.31, 0.92),\n",
              " (4, 'an', 'Andorra', 468, 468, 0, 85580, 0.12, 8.13, 6.96, 0.0),\n",
              " (5, 'ao', 'Angola', 1246700, 1246700, 0, 19625353, 2.78, 38.78, 11.49, 0.46)]"
            ]
          },
          "metadata": {
            "tags": []
          },
          "execution_count": 5
        }
      ]
    },
    {
      "cell_type": "markdown",
      "metadata": {
        "id": "hPIeXUgMhfCS",
        "colab_type": "text"
      },
      "source": [
        "Here are the descriptions for some of the columns:\n",
        "\n",
        "**name** - The name of the country. <br>\n",
        "**area** - The total land and sea area of the country. <br>\n",
        "**population** - The country's population. <br>\n",
        "**population_growth**- The country's population growth as a percentage. <br>\n",
        "**birth_rate** - The country's birth rate, or the number of births a year per 1,000 people. <br>\n",
        "**death_rate** - The country's death rate, or the number of death a year per 1,000 people. <br>\n",
        "**area**- The country's total area (both land and water). <br>\n",
        "**area_land** - The country's land area in square kilometers. <br>\n",
        "**area_water** - The country's waterarea in square kilometers. <br>\n",
        "\n"
      ]
    },
    {
      "cell_type": "markdown",
      "metadata": {
        "id": "NU7gTIezhRj2",
        "colab_type": "text"
      },
      "source": [
        ""
      ]
    },
    {
      "cell_type": "markdown",
      "metadata": {
        "id": "OhLld61yhfCT",
        "colab_type": "text"
      },
      "source": [
        "## **Summary Statistics**\n",
        "I'll calculate some summary statistics on population and population growth."
      ]
    },
    {
      "cell_type": "code",
      "metadata": {
        "id": "YVNbuBXHhfCU",
        "colab_type": "code",
        "colab": {},
        "outputId": "1808d31f-2d81-4094-ac80-b92c58e9aa95"
      },
      "source": [
        "%%sql\n",
        "SELECT MIN(population) AS min_pop,\n",
        "       MAX(population) AS max_pop,\n",
        "       MIN(population_growth) AS min_pop_growth,\n",
        "       MAX(population_growth) AS max_pop_growth\n",
        " FROM facts;"
      ],
      "execution_count": null,
      "outputs": [
        {
          "output_type": "stream",
          "text": [
            " * sqlite:///factbook.db\n",
            "Done.\n"
          ],
          "name": "stdout"
        },
        {
          "output_type": "execute_result",
          "data": {
            "text/html": [
              "<table>\n",
              "    <tr>\n",
              "        <th>min_pop</th>\n",
              "        <th>max_pop</th>\n",
              "        <th>min_pop_growth</th>\n",
              "        <th>max_pop_growth</th>\n",
              "    </tr>\n",
              "    <tr>\n",
              "        <td>0</td>\n",
              "        <td>7256490011</td>\n",
              "        <td>0.0</td>\n",
              "        <td>4.02</td>\n",
              "    </tr>\n",
              "</table>"
            ],
            "text/plain": [
              "[(0, 7256490011, 0.0, 4.02)]"
            ]
          },
          "metadata": {
            "tags": []
          },
          "execution_count": 6
        }
      ]
    },
    {
      "cell_type": "markdown",
      "metadata": {
        "id": "HFENFgrrhfCZ",
        "colab_type": "text"
      },
      "source": [
        "A few things stick out from the summary statistics in the last screen: <br>\n",
        "\n",
        "There's a country with a population of 0. <br>\n",
        "\n",
        "There's a country with a population of 7256490011 (or more than 7.2 billion people). <br>\n",
        "\n"
      ]
    },
    {
      "cell_type": "markdown",
      "metadata": {
        "id": "kDCjVtBvhQxz",
        "colab_type": "text"
      },
      "source": [
        ""
      ]
    },
    {
      "cell_type": "markdown",
      "metadata": {
        "id": "oW99nNJbhfCa",
        "colab_type": "text"
      },
      "source": [
        "## **Exploring Outliers**\n",
        "I'll use subqueries to take a closer look at these countries without using the specific values."
      ]
    },
    {
      "cell_type": "code",
      "metadata": {
        "id": "l05ySFwzhfCb",
        "colab_type": "code",
        "colab": {},
        "outputId": "08c541a4-9718-43dc-afa3-ad97d169d21d"
      },
      "source": [
        "%%sql\n",
        "SELECT *\n",
        "  FROM facts\n",
        " WHERE population == (SELECT MIN(population)\n",
        "                         FROM facts\n",
        "                     );"
      ],
      "execution_count": null,
      "outputs": [
        {
          "output_type": "stream",
          "text": [
            " * sqlite:///factbook.db\n",
            "Done.\n"
          ],
          "name": "stdout"
        },
        {
          "output_type": "execute_result",
          "data": {
            "text/html": [
              "<table>\n",
              "    <tr>\n",
              "        <th>id</th>\n",
              "        <th>code</th>\n",
              "        <th>name</th>\n",
              "        <th>area</th>\n",
              "        <th>area_land</th>\n",
              "        <th>area_water</th>\n",
              "        <th>population</th>\n",
              "        <th>population_growth</th>\n",
              "        <th>birth_rate</th>\n",
              "        <th>death_rate</th>\n",
              "        <th>migration_rate</th>\n",
              "    </tr>\n",
              "    <tr>\n",
              "        <td>250</td>\n",
              "        <td>ay</td>\n",
              "        <td>Antarctica</td>\n",
              "        <td>None</td>\n",
              "        <td>280000</td>\n",
              "        <td>None</td>\n",
              "        <td>0</td>\n",
              "        <td>None</td>\n",
              "        <td>None</td>\n",
              "        <td>None</td>\n",
              "        <td>None</td>\n",
              "    </tr>\n",
              "</table>"
            ],
            "text/plain": [
              "[(250, 'ay', 'Antarctica', None, 280000, None, 0, None, None, None, None)]"
            ]
          },
          "metadata": {
            "tags": []
          },
          "execution_count": 7
        }
      ]
    },
    {
      "cell_type": "markdown",
      "metadata": {
        "id": "azAJCpWEhfCf",
        "colab_type": "text"
      },
      "source": [
        "It seems like the table contains a row for Antarctica, which explains the population of 0. This seems to match the CIA Factbook page for Antarctica."
      ]
    },
    {
      "cell_type": "code",
      "metadata": {
        "id": "iBBXpg8vhfCf",
        "colab_type": "code",
        "colab": {},
        "outputId": "1ce96e5c-2d51-450d-f152-42249a964512"
      },
      "source": [
        "%%sql\n",
        "SELECT *\n",
        "  FROM facts\n",
        " WHERE population == (SELECT MAX(population)\n",
        "                         FROM facts\n",
        "                     );"
      ],
      "execution_count": null,
      "outputs": [
        {
          "output_type": "stream",
          "text": [
            " * sqlite:///factbook.db\n",
            "Done.\n"
          ],
          "name": "stdout"
        },
        {
          "output_type": "execute_result",
          "data": {
            "text/html": [
              "<table>\n",
              "    <tr>\n",
              "        <th>id</th>\n",
              "        <th>code</th>\n",
              "        <th>name</th>\n",
              "        <th>area</th>\n",
              "        <th>area_land</th>\n",
              "        <th>area_water</th>\n",
              "        <th>population</th>\n",
              "        <th>population_growth</th>\n",
              "        <th>birth_rate</th>\n",
              "        <th>death_rate</th>\n",
              "        <th>migration_rate</th>\n",
              "    </tr>\n",
              "    <tr>\n",
              "        <td>261</td>\n",
              "        <td>xx</td>\n",
              "        <td>World</td>\n",
              "        <td>None</td>\n",
              "        <td>None</td>\n",
              "        <td>None</td>\n",
              "        <td>7256490011</td>\n",
              "        <td>1.08</td>\n",
              "        <td>18.6</td>\n",
              "        <td>7.8</td>\n",
              "        <td>None</td>\n",
              "    </tr>\n",
              "</table>"
            ],
            "text/plain": [
              "[(261, 'xx', 'World', None, None, None, 7256490011, 1.08, 18.6, 7.8, None)]"
            ]
          },
          "metadata": {
            "tags": []
          },
          "execution_count": 8
        }
      ]
    },
    {
      "cell_type": "markdown",
      "metadata": {
        "id": "t6Tu7gohhfCn",
        "colab_type": "text"
      },
      "source": [
        "\n",
        "I also see that the table contains a row for the whole world, which explains the maximum population of over 7.2 billion I found earlier. <br>\n"
      ]
    },
    {
      "cell_type": "markdown",
      "metadata": {
        "id": "y2woGli3hP3u",
        "colab_type": "text"
      },
      "source": [
        ""
      ]
    },
    {
      "cell_type": "markdown",
      "metadata": {
        "id": "dxJ-Fg2GhfCo",
        "colab_type": "text"
      },
      "source": [
        "## **Summary Statistics Revisited**\n",
        "I'll now recalculate the summary statistics I calculated earlier, while excluding the row for the whole world."
      ]
    },
    {
      "cell_type": "code",
      "metadata": {
        "id": "091T6k6ohfCp",
        "colab_type": "code",
        "colab": {},
        "outputId": "931f9931-352c-4a4c-c571-95fa15e3403c"
      },
      "source": [
        "%%sql\n",
        "SELECT MIN(population) AS min_pop,\n",
        "       MAX(population) AS max_pop,\n",
        "       MIN(population_growth) AS min_pop_growth,\n",
        "       MAX(population_growth) AS max_pop_growth\n",
        " FROM facts\n",
        "WHERE name <> 'World'; "
      ],
      "execution_count": null,
      "outputs": [
        {
          "output_type": "stream",
          "text": [
            " * sqlite:///factbook.db\n",
            "Done.\n"
          ],
          "name": "stdout"
        },
        {
          "output_type": "execute_result",
          "data": {
            "text/html": [
              "<table>\n",
              "    <tr>\n",
              "        <th>min_pop</th>\n",
              "        <th>max_pop</th>\n",
              "        <th>min_pop_growth</th>\n",
              "        <th>max_pop_growth</th>\n",
              "    </tr>\n",
              "    <tr>\n",
              "        <td>0</td>\n",
              "        <td>1367485388</td>\n",
              "        <td>0.0</td>\n",
              "        <td>4.02</td>\n",
              "    </tr>\n",
              "</table>"
            ],
            "text/plain": [
              "[(0, 1367485388, 0.0, 4.02)]"
            ]
          },
          "metadata": {
            "tags": []
          },
          "execution_count": 9
        }
      ]
    },
    {
      "cell_type": "markdown",
      "metadata": {
        "id": "ciJzPRy5hfCt",
        "colab_type": "text"
      },
      "source": [
        "There's a country whose population closes in on 1.4 billion!"
      ]
    },
    {
      "cell_type": "markdown",
      "metadata": {
        "id": "6lUNq0YWhfCt",
        "colab_type": "text"
      },
      "source": [
        "What country has 1.4 billion people? What country has the highest growth rate?"
      ]
    },
    {
      "cell_type": "code",
      "metadata": {
        "id": "iWxsPYDihfCu",
        "colab_type": "code",
        "colab": {},
        "outputId": "a1db6209-b12f-40ba-eb32-17a1ac004460"
      },
      "source": [
        "%%sql \n",
        "SELECT name, MAX(population) population\n",
        "  FROM facts\n",
        "    WHERE name NOT IN (\"World\");"
      ],
      "execution_count": null,
      "outputs": [
        {
          "output_type": "stream",
          "text": [
            " * sqlite:///factbook.db\n",
            "Done.\n"
          ],
          "name": "stdout"
        },
        {
          "output_type": "execute_result",
          "data": {
            "text/html": [
              "<table>\n",
              "    <tr>\n",
              "        <th>name</th>\n",
              "        <th>population</th>\n",
              "    </tr>\n",
              "    <tr>\n",
              "        <td>China</td>\n",
              "        <td>1367485388</td>\n",
              "    </tr>\n",
              "</table>"
            ],
            "text/plain": [
              "[('China', 1367485388)]"
            ]
          },
          "metadata": {
            "tags": []
          },
          "execution_count": 10
        }
      ]
    },
    {
      "cell_type": "code",
      "metadata": {
        "id": "l74TVA9ThfCy",
        "colab_type": "code",
        "colab": {},
        "outputId": "9157a66e-71df-4617-b5a2-727bbc3a81f2"
      },
      "source": [
        "%%sql\n",
        "SELECT name, MAX(population_growth) population_growth\n",
        "  FROM facts;"
      ],
      "execution_count": null,
      "outputs": [
        {
          "output_type": "stream",
          "text": [
            " * sqlite:///factbook.db\n",
            "Done.\n"
          ],
          "name": "stdout"
        },
        {
          "output_type": "execute_result",
          "data": {
            "text/html": [
              "<table>\n",
              "    <tr>\n",
              "        <th>name</th>\n",
              "        <th>population_growth</th>\n",
              "    </tr>\n",
              "    <tr>\n",
              "        <td>South Sudan</td>\n",
              "        <td>4.02</td>\n",
              "    </tr>\n",
              "</table>"
            ],
            "text/plain": [
              "[('South Sudan', 4.02)]"
            ]
          },
          "metadata": {
            "tags": []
          },
          "execution_count": 11
        }
      ]
    },
    {
      "cell_type": "markdown",
      "metadata": {
        "id": "-qOZGV0RhfC2",
        "colab_type": "text"
      },
      "source": [
        "China has 1.4 billion people while South Sudan has the highest growth rate!"
      ]
    },
    {
      "cell_type": "markdown",
      "metadata": {
        "id": "AR_JzhBhhNu8",
        "colab_type": "text"
      },
      "source": [
        ""
      ]
    },
    {
      "cell_type": "markdown",
      "metadata": {
        "id": "JC9b81k5hfC4",
        "colab_type": "text"
      },
      "source": [
        "## **Exploring Average Population and Area**\n",
        "\n",
        "I'll explore density next. Density depends on the population and the country's area. Look at the average values for these two columns. <br>\n",
        "\n",
        "I'll discard the row for the whole planet."
      ]
    },
    {
      "cell_type": "code",
      "metadata": {
        "id": "xW3sYaethfC5",
        "colab_type": "code",
        "colab": {},
        "outputId": "d541c212-a3f5-4f67-fb66-8dd8f19a1682"
      },
      "source": [
        "%%sql\n",
        "SELECT AVG(population) AS avg_pop, AVG(area) AS avg_area\n",
        " FROM facts\n",
        "WHERE name <> 'World';"
      ],
      "execution_count": null,
      "outputs": [
        {
          "output_type": "stream",
          "text": [
            " * sqlite:///factbook.db\n",
            "Done.\n"
          ],
          "name": "stdout"
        },
        {
          "output_type": "execute_result",
          "data": {
            "text/html": [
              "<table>\n",
              "    <tr>\n",
              "        <th>avg_pop</th>\n",
              "        <th>avg_area</th>\n",
              "    </tr>\n",
              "    <tr>\n",
              "        <td>32242666.56846473</td>\n",
              "        <td>555093.546184739</td>\n",
              "    </tr>\n",
              "</table>"
            ],
            "text/plain": [
              "[(32242666.56846473, 555093.546184739)]"
            ]
          },
          "metadata": {
            "tags": []
          },
          "execution_count": 12
        }
      ]
    },
    {
      "cell_type": "markdown",
      "metadata": {
        "id": "Fl69LKRShfC9",
        "colab_type": "text"
      },
      "source": [
        "The average population is around 32 million and the average area is 555 thousand square kilometers."
      ]
    },
    {
      "cell_type": "markdown",
      "metadata": {
        "id": "qKXKIko0hMwk",
        "colab_type": "text"
      },
      "source": [
        ""
      ]
    },
    {
      "cell_type": "markdown",
      "metadata": {
        "id": "gMGYjfB6hfC-",
        "colab_type": "text"
      },
      "source": [
        "## **Finding Densely Populated Countries**\n",
        "\n",
        "I'll build on the query above to find countries that are densely populated and identify countries that have:<br>\n",
        "\n",
        "Above average values for population.<br>\n",
        "\n",
        "Below average values for area."
      ]
    },
    {
      "cell_type": "code",
      "metadata": {
        "id": "O4q4y4zThfC_",
        "colab_type": "code",
        "colab": {},
        "outputId": "0b07423c-6947-4d7a-e687-af2efa4eeb98"
      },
      "source": [
        "%%sql\n",
        "SELECT *\n",
        "  FROM facts\n",
        " WHERE population > (SELECT AVG(population)\n",
        "                         FROM facts\n",
        "                    )\n",
        "                 AND area < (SELECT AVG(area)\n",
        "                         FROM facts\n",
        "                    );"
      ],
      "execution_count": null,
      "outputs": [
        {
          "output_type": "stream",
          "text": [
            " * sqlite:///factbook.db\n",
            "Done.\n"
          ],
          "name": "stdout"
        },
        {
          "output_type": "execute_result",
          "data": {
            "text/html": [
              "<table>\n",
              "    <tr>\n",
              "        <th>id</th>\n",
              "        <th>code</th>\n",
              "        <th>name</th>\n",
              "        <th>area</th>\n",
              "        <th>area_land</th>\n",
              "        <th>area_water</th>\n",
              "        <th>population</th>\n",
              "        <th>population_growth</th>\n",
              "        <th>birth_rate</th>\n",
              "        <th>death_rate</th>\n",
              "        <th>migration_rate</th>\n",
              "    </tr>\n",
              "    <tr>\n",
              "        <td>14</td>\n",
              "        <td>bg</td>\n",
              "        <td>Bangladesh</td>\n",
              "        <td>148460</td>\n",
              "        <td>130170</td>\n",
              "        <td>18290</td>\n",
              "        <td>168957745</td>\n",
              "        <td>1.6</td>\n",
              "        <td>21.14</td>\n",
              "        <td>5.61</td>\n",
              "        <td>0.46</td>\n",
              "    </tr>\n",
              "    <tr>\n",
              "        <td>65</td>\n",
              "        <td>gm</td>\n",
              "        <td>Germany</td>\n",
              "        <td>357022</td>\n",
              "        <td>348672</td>\n",
              "        <td>8350</td>\n",
              "        <td>80854408</td>\n",
              "        <td>0.17</td>\n",
              "        <td>8.47</td>\n",
              "        <td>11.42</td>\n",
              "        <td>1.24</td>\n",
              "    </tr>\n",
              "    <tr>\n",
              "        <td>85</td>\n",
              "        <td>ja</td>\n",
              "        <td>Japan</td>\n",
              "        <td>377915</td>\n",
              "        <td>364485</td>\n",
              "        <td>13430</td>\n",
              "        <td>126919659</td>\n",
              "        <td>0.16</td>\n",
              "        <td>7.93</td>\n",
              "        <td>9.51</td>\n",
              "        <td>0.0</td>\n",
              "    </tr>\n",
              "    <tr>\n",
              "        <td>138</td>\n",
              "        <td>rp</td>\n",
              "        <td>Philippines</td>\n",
              "        <td>300000</td>\n",
              "        <td>298170</td>\n",
              "        <td>1830</td>\n",
              "        <td>100998376</td>\n",
              "        <td>1.61</td>\n",
              "        <td>24.27</td>\n",
              "        <td>6.11</td>\n",
              "        <td>2.09</td>\n",
              "    </tr>\n",
              "    <tr>\n",
              "        <td>173</td>\n",
              "        <td>th</td>\n",
              "        <td>Thailand</td>\n",
              "        <td>513120</td>\n",
              "        <td>510890</td>\n",
              "        <td>2230</td>\n",
              "        <td>67976405</td>\n",
              "        <td>0.34</td>\n",
              "        <td>11.19</td>\n",
              "        <td>7.8</td>\n",
              "        <td>0.0</td>\n",
              "    </tr>\n",
              "    <tr>\n",
              "        <td>185</td>\n",
              "        <td>uk</td>\n",
              "        <td>United Kingdom</td>\n",
              "        <td>243610</td>\n",
              "        <td>241930</td>\n",
              "        <td>1680</td>\n",
              "        <td>64088222</td>\n",
              "        <td>0.54</td>\n",
              "        <td>12.17</td>\n",
              "        <td>9.35</td>\n",
              "        <td>2.54</td>\n",
              "    </tr>\n",
              "    <tr>\n",
              "        <td>192</td>\n",
              "        <td>vm</td>\n",
              "        <td>Vietnam</td>\n",
              "        <td>331210</td>\n",
              "        <td>310070</td>\n",
              "        <td>21140</td>\n",
              "        <td>94348835</td>\n",
              "        <td>0.97</td>\n",
              "        <td>15.96</td>\n",
              "        <td>5.93</td>\n",
              "        <td>0.3</td>\n",
              "    </tr>\n",
              "</table>"
            ],
            "text/plain": [
              "[(14, 'bg', 'Bangladesh', 148460, 130170, 18290, 168957745, 1.6, 21.14, 5.61, 0.46),\n",
              " (65, 'gm', 'Germany', 357022, 348672, 8350, 80854408, 0.17, 8.47, 11.42, 1.24),\n",
              " (85, 'ja', 'Japan', 377915, 364485, 13430, 126919659, 0.16, 7.93, 9.51, 0.0),\n",
              " (138, 'rp', 'Philippines', 300000, 298170, 1830, 100998376, 1.61, 24.27, 6.11, 2.09),\n",
              " (173, 'th', 'Thailand', 513120, 510890, 2230, 67976405, 0.34, 11.19, 7.8, 0.0),\n",
              " (185, 'uk', 'United Kingdom', 243610, 241930, 1680, 64088222, 0.54, 12.17, 9.35, 2.54),\n",
              " (192, 'vm', 'Vietnam', 331210, 310070, 21140, 94348835, 0.97, 15.96, 5.93, 0.3)]"
            ]
          },
          "metadata": {
            "tags": []
          },
          "execution_count": 13
        }
      ]
    },
    {
      "cell_type": "markdown",
      "metadata": {
        "id": "7_OucOh3hfDD",
        "colab_type": "text"
      },
      "source": [
        "Some of these countries are generally known to be densely populated!"
      ]
    },
    {
      "cell_type": "markdown",
      "metadata": {
        "id": "KpgeY6sQhK-V",
        "colab_type": "text"
      },
      "source": [
        ""
      ]
    },
    {
      "cell_type": "markdown",
      "metadata": {
        "id": "RMWRFso6hfDE",
        "colab_type": "text"
      },
      "source": [
        "## Exploring Population To Area Ratio"
      ]
    },
    {
      "cell_type": "markdown",
      "metadata": {
        "id": "9OLa_wURhfDE",
        "colab_type": "text"
      },
      "source": [
        "I'm going to explore which countries have the highest population to area ratio. This will tell me how densely populated this areas are!"
      ]
    },
    {
      "cell_type": "code",
      "metadata": {
        "id": "CMjcbx1ohfDF",
        "colab_type": "code",
        "colab": {},
        "outputId": "9db3fd03-f638-468e-c9d5-b5170fd1fc9c"
      },
      "source": [
        "%%sql\n",
        "SELECT name, area, population, ROUND(CAST(population AS FLOAT)/ area, 2) AS pop_area_ratio\n",
        " FROM facts\n",
        "    ORDER BY pop_area_ratio DESC\n",
        "    LIMIT 5;"
      ],
      "execution_count": null,
      "outputs": [
        {
          "output_type": "stream",
          "text": [
            " * sqlite:///factbook.db\n",
            "Done.\n"
          ],
          "name": "stdout"
        },
        {
          "output_type": "execute_result",
          "data": {
            "text/html": [
              "<table>\n",
              "    <tr>\n",
              "        <th>name</th>\n",
              "        <th>area</th>\n",
              "        <th>population</th>\n",
              "        <th>pop_area_ratio</th>\n",
              "    </tr>\n",
              "    <tr>\n",
              "        <td>Macau</td>\n",
              "        <td>28</td>\n",
              "        <td>592731</td>\n",
              "        <td>21168.96</td>\n",
              "    </tr>\n",
              "    <tr>\n",
              "        <td>Monaco</td>\n",
              "        <td>2</td>\n",
              "        <td>30535</td>\n",
              "        <td>15267.5</td>\n",
              "    </tr>\n",
              "    <tr>\n",
              "        <td>Singapore</td>\n",
              "        <td>697</td>\n",
              "        <td>5674472</td>\n",
              "        <td>8141.28</td>\n",
              "    </tr>\n",
              "    <tr>\n",
              "        <td>Hong Kong</td>\n",
              "        <td>1108</td>\n",
              "        <td>7141106</td>\n",
              "        <td>6445.04</td>\n",
              "    </tr>\n",
              "    <tr>\n",
              "        <td>Gaza Strip</td>\n",
              "        <td>360</td>\n",
              "        <td>1869055</td>\n",
              "        <td>5191.82</td>\n",
              "    </tr>\n",
              "</table>"
            ],
            "text/plain": [
              "[('Macau', 28, 592731, 21168.96),\n",
              " ('Monaco', 2, 30535, 15267.5),\n",
              " ('Singapore', 697, 5674472, 8141.28),\n",
              " ('Hong Kong', 1108, 7141106, 6445.04),\n",
              " ('Gaza Strip', 360, 1869055, 5191.82)]"
            ]
          },
          "metadata": {
            "tags": []
          },
          "execution_count": 41
        }
      ]
    },
    {
      "cell_type": "markdown",
      "metadata": {
        "id": "8QusNKJqhfDL",
        "colab_type": "text"
      },
      "source": [
        "Lastly, I'd like to know the average population density."
      ]
    },
    {
      "cell_type": "code",
      "metadata": {
        "id": "vfscVSYKhfDM",
        "colab_type": "code",
        "colab": {},
        "outputId": "ae21e1eb-813f-49bf-8c17-e1099808e3af"
      },
      "source": [
        "%%sql\n",
        "SELECT ROUND(AVG(CAST(population AS FLOAT)/ area_land), 2) AS avg_pop_area\n",
        " FROM facts\n",
        "    WHERE name NOT IN (\"Antarctica\");"
      ],
      "execution_count": null,
      "outputs": [
        {
          "output_type": "stream",
          "text": [
            " * sqlite:///factbook.db\n",
            "Done.\n"
          ],
          "name": "stdout"
        },
        {
          "output_type": "execute_result",
          "data": {
            "text/html": [
              "<table>\n",
              "    <tr>\n",
              "        <th>avg_pop_area</th>\n",
              "    </tr>\n",
              "    <tr>\n",
              "        <td>431.91</td>\n",
              "    </tr>\n",
              "</table>"
            ],
            "text/plain": [
              "[(431.91,)]"
            ]
          },
          "metadata": {
            "tags": []
          },
          "execution_count": 42
        }
      ]
    },
    {
      "cell_type": "markdown",
      "metadata": {
        "id": "cXRO3rr_hfDU",
        "colab_type": "text"
      },
      "source": [
        "The average density is almost 432 square kilometers!"
      ]
    },
    {
      "cell_type": "markdown",
      "metadata": {
        "id": "hkqYg1vNhHEX",
        "colab_type": "text"
      },
      "source": [
        ""
      ]
    },
    {
      "cell_type": "markdown",
      "metadata": {
        "id": "btHvraQshfDU",
        "colab_type": "text"
      },
      "source": [
        "## Exploring Water to Land Ratios"
      ]
    },
    {
      "cell_type": "markdown",
      "metadata": {
        "id": "DZ5mZr-1hfDV",
        "colab_type": "text"
      },
      "source": [
        "Which countries have the highest ratios of water to land?"
      ]
    },
    {
      "cell_type": "code",
      "metadata": {
        "id": "7NYR7TYShfDW",
        "colab_type": "code",
        "colab": {},
        "outputId": "9c5f9d10-f780-4446-f5af-beac54d6c6cf"
      },
      "source": [
        "%%sql\n",
        "SELECT name, area_land, area_water, ROUND(CAST(area_water AS FLOAT)/ area_land, 2) AS water_land_ratio\n",
        " FROM facts\n",
        "    ORDER BY water_land_ratio DESC\n",
        "    LIMIT 5;"
      ],
      "execution_count": null,
      "outputs": [
        {
          "output_type": "stream",
          "text": [
            " * sqlite:///factbook.db\n",
            "Done.\n"
          ],
          "name": "stdout"
        },
        {
          "output_type": "execute_result",
          "data": {
            "text/html": [
              "<table>\n",
              "    <tr>\n",
              "        <th>name</th>\n",
              "        <th>area_land</th>\n",
              "        <th>area_water</th>\n",
              "        <th>water_land_ratio</th>\n",
              "    </tr>\n",
              "    <tr>\n",
              "        <td>British Indian Ocean Territory</td>\n",
              "        <td>60</td>\n",
              "        <td>54340</td>\n",
              "        <td>905.67</td>\n",
              "    </tr>\n",
              "    <tr>\n",
              "        <td>Virgin Islands</td>\n",
              "        <td>346</td>\n",
              "        <td>1564</td>\n",
              "        <td>4.52</td>\n",
              "    </tr>\n",
              "    <tr>\n",
              "        <td>Puerto Rico</td>\n",
              "        <td>8870</td>\n",
              "        <td>4921</td>\n",
              "        <td>0.55</td>\n",
              "    </tr>\n",
              "    <tr>\n",
              "        <td>Bahamas, The</td>\n",
              "        <td>10010</td>\n",
              "        <td>3870</td>\n",
              "        <td>0.39</td>\n",
              "    </tr>\n",
              "    <tr>\n",
              "        <td>Guinea-Bissau</td>\n",
              "        <td>28120</td>\n",
              "        <td>8005</td>\n",
              "        <td>0.28</td>\n",
              "    </tr>\n",
              "</table>"
            ],
            "text/plain": [
              "[('British Indian Ocean Territory', 60, 54340, 905.67),\n",
              " ('Virgin Islands', 346, 1564, 4.52),\n",
              " ('Puerto Rico', 8870, 4921, 0.55),\n",
              " ('Bahamas, The', 10010, 3870, 0.39),\n",
              " ('Guinea-Bissau', 28120, 8005, 0.28)]"
            ]
          },
          "metadata": {
            "tags": []
          },
          "execution_count": 43
        }
      ]
    },
    {
      "cell_type": "markdown",
      "metadata": {
        "id": "L5AH45OYhfDZ",
        "colab_type": "text"
      },
      "source": [
        "British Indian Ocean Territory and The Virgin Islands have the highest water to land ratio!"
      ]
    },
    {
      "cell_type": "markdown",
      "metadata": {
        "id": "4ZOiaDKPhfDa",
        "colab_type": "text"
      },
      "source": [
        "Which countries have more water than land?"
      ]
    },
    {
      "cell_type": "code",
      "metadata": {
        "id": "ntItjAa5hfDa",
        "colab_type": "code",
        "colab": {},
        "outputId": "614c4da9-e1dc-4ff6-c662-c4c77e3a64d6"
      },
      "source": [
        "%%sql\n",
        "SELECT *\n",
        " FROM facts\n",
        "    WHERE area_water > area_land;"
      ],
      "execution_count": null,
      "outputs": [
        {
          "output_type": "stream",
          "text": [
            " * sqlite:///factbook.db\n",
            "Done.\n"
          ],
          "name": "stdout"
        },
        {
          "output_type": "execute_result",
          "data": {
            "text/html": [
              "<table>\n",
              "    <tr>\n",
              "        <th>id</th>\n",
              "        <th>code</th>\n",
              "        <th>name</th>\n",
              "        <th>area</th>\n",
              "        <th>area_land</th>\n",
              "        <th>area_water</th>\n",
              "        <th>population</th>\n",
              "        <th>population_growth</th>\n",
              "        <th>birth_rate</th>\n",
              "        <th>death_rate</th>\n",
              "        <th>migration_rate</th>\n",
              "    </tr>\n",
              "    <tr>\n",
              "        <td>228</td>\n",
              "        <td>io</td>\n",
              "        <td>British Indian Ocean Territory</td>\n",
              "        <td>54400</td>\n",
              "        <td>60</td>\n",
              "        <td>54340</td>\n",
              "        <td>None</td>\n",
              "        <td>None</td>\n",
              "        <td>None</td>\n",
              "        <td>None</td>\n",
              "        <td>None</td>\n",
              "    </tr>\n",
              "    <tr>\n",
              "        <td>247</td>\n",
              "        <td>vq</td>\n",
              "        <td>Virgin Islands</td>\n",
              "        <td>1910</td>\n",
              "        <td>346</td>\n",
              "        <td>1564</td>\n",
              "        <td>103574</td>\n",
              "        <td>0.59</td>\n",
              "        <td>10.31</td>\n",
              "        <td>8.54</td>\n",
              "        <td>7.67</td>\n",
              "    </tr>\n",
              "</table>"
            ],
            "text/plain": [
              "[(228, 'io', 'British Indian Ocean Territory', 54400, 60, 54340, None, None, None, None, None),\n",
              " (247, 'vq', 'Virgin Islands', 1910, 346, 1564, 103574, 0.59, 10.31, 8.54, 7.67)]"
            ]
          },
          "metadata": {
            "tags": []
          },
          "execution_count": 44
        }
      ]
    },
    {
      "cell_type": "markdown",
      "metadata": {
        "id": "0n0hqP2_hfDd",
        "colab_type": "text"
      },
      "source": [
        "Not a surprise that the Islands have more water than land!"
      ]
    }
  ]
}